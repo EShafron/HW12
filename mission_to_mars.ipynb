{
 "cells": [
  {
   "cell_type": "code",
   "execution_count": 16,
   "metadata": {},
   "outputs": [],
   "source": [
    "# Import dependencies for seleniun & web-scraping\n",
    "from bs4 import BeautifulSoup as bs\n",
    "import requests\n",
    "from splinter import Browser\n",
    "import time\n",
    "\n",
    "# Path from chromdriver\n",
    "executable_path={'executable_path':'./chromedriver'}\n",
    "\n",
    "# Browser object from splinter\n",
    "browser=Browser('chrome',**executable_path,headless=False)"
   ]
  },
  {
   "cell_type": "markdown",
   "metadata": {},
   "source": [
    "Scrape 1: NASA Mars New"
   ]
  },
  {
   "cell_type": "code",
   "execution_count": 17,
   "metadata": {},
   "outputs": [],
   "source": [
    "# Page URL\n",
    "url=\"https://mars.nasa.gov/news/\"\n",
    "\n",
    "# Get html from browser\n",
    "browser.visit(url)\n",
    "\n",
    "# Store list of html\n",
    "\n",
    "html=browser.html\n",
    "\n",
    "# Use last element of HTML list\n",
    "soup=bs(html,'html.parser')\n",
    "\n",
    "# Initial soup based on each list item\n",
    "starter_soup=soup.find('li',class_=\"slide\")\n",
    "\n",
    "# Loop through initial soup & find all headlines, dates, & titles\n",
    "headline = (starter_soup.find('div',class_=\"content_title\")).text.strip()\n",
    "date = (starter_soup.find('div',class_=\"list_date\")).text.strip()\n",
    "paragraph = (starter_soup.find('div',class_=\"article_teaser_body\")).text.strip()"
   ]
  },
  {
   "cell_type": "code",
   "execution_count": null,
   "metadata": {},
   "outputs": [],
   "source": [
    "# Page URL\n",
    "url=\"https://mars.nasa.gov/news/\"\n",
    "\n",
    "# Get html from browser\n",
    "browser.visit(url)\n",
    "\n",
    "# Store list of html\n",
    "htmls=[]\n",
    "\n",
    "# Switch for while loop\n",
    "run=True\n",
    "\n",
    "# Each click reveals more headlines, leading to potential duplicates\n",
    "# Work around this by saving HTML for each iteration, then work off last HTML\n",
    "while run:\n",
    "\n",
    "    try:\n",
    "        browser.find_by_css('a.button').first.click()\n",
    "        \n",
    "    except:\n",
    "        run=False    \n",
    "    htmls.append(browser.html)\n",
    "\n",
    "    "
   ]
  },
  {
   "cell_type": "code",
   "execution_count": 45,
   "metadata": {},
   "outputs": [
    {
     "name": "stdout",
     "output_type": "stream",
     "text": [
      "Headlines: 1855, dates: 1855, paragraphs: 1855\n"
     ]
    }
   ],
   "source": [
    "# Use last element of HTML list\n",
    "soup=bs(htmls[-1],'html.parser')\n",
    "\n",
    "# Initial soup based on each list item\n",
    "starter_soup=soup.find_all('li',class_=\"slide\")\n",
    "\n",
    "# Initialize result lists for headlines, dates, & titles html\n",
    "headlines_soup=[]\n",
    "dates_soup=[]\n",
    "paragraph_soup=[]\n",
    "\n",
    "# Initialize result lists for scraped headlines, dates, & titles\n",
    "headlines=[]\n",
    "dates=[]\n",
    "paragraphs=[]\n",
    "\n",
    "# Loop through initial soup & find all headlines, dates, & titles\n",
    "for item in starter_soup:\n",
    "    headlines_soup.append(item.find_all('div',class_=\"content_title\"))\n",
    "    dates_soup.append(item.find_all('div',class_=\"list_date\"))\n",
    "    paragraph_soup.append(item.find_all('div',class_=\"article_teaser_body\"))\n",
    "\n",
    "# Append each headline to the headlines array\n",
    "for line in headlines_soup:\n",
    "    for l in line:\n",
    "#         print(l.text.strip())\n",
    "        headlines.append(l.text.strip())\n",
    "\n",
    "# Append each date to the dates array\n",
    "for line in dates_soup:\n",
    "    for l in line:\n",
    "#         print(l.text.strip())\n",
    "        dates.append(l.text.strip())\n",
    "\n",
    "# Append each paragraph to the paragraphs array\n",
    "for line in paragraph_soup:\n",
    "    for l in line:\n",
    "#         print(l.text.strip())\n",
    "        paragraphs.append(l.text.strip())\n",
    "\n",
    "# Confirm arrays are of equal length\n",
    "print(f\"Headlines: {len(headlines)}, dates: {len(dates)}, paragraphs: {len(paragraphs)}\")"
   ]
  },
  {
   "cell_type": "markdown",
   "metadata": {},
   "source": [
    "Scrape 2: JPL Mars Space Images - Featured Image"
   ]
  },
  {
   "cell_type": "code",
   "execution_count": 7,
   "metadata": {},
   "outputs": [],
   "source": [
    "# Page URL\n",
    "url=\"https://www.jpl.nasa.gov/spaceimages/?search=&category=Mars\"\n",
    "\n",
    "# Get visit url\n",
    "browser.visit(url)\n",
    "\n",
    "# Click on \"full image\" button\n",
    "browser.find_by_css('a#full_image.button.fancybox').first.click()"
   ]
  },
  {
   "cell_type": "code",
   "execution_count": 9,
   "metadata": {},
   "outputs": [],
   "source": [
    "# Click on \"more info\" button\n",
    "browser.click_link_by_partial_href('/spaceimages/details')"
   ]
  },
  {
   "cell_type": "code",
   "execution_count": 10,
   "metadata": {},
   "outputs": [],
   "source": [
    "# Click on image\n",
    "browser.find_by_css('img.main_image').first.click()"
   ]
  },
  {
   "cell_type": "code",
   "execution_count": 11,
   "metadata": {},
   "outputs": [],
   "source": [
    "# Pull browser html\n",
    "html=browser.html\n",
    "# Parse with BS\n",
    "soup=bs(html,'html.parser')\n",
    "# Find image element\n",
    "image=soup.find_all('img')\n",
    "# Pull source url\n",
    "featured_url=image[0]['src']"
   ]
  },
  {
   "cell_type": "markdown",
   "metadata": {},
   "source": [
    "Scrape 3: Mars Weather"
   ]
  },
  {
   "cell_type": "code",
   "execution_count": 19,
   "metadata": {},
   "outputs": [],
   "source": [
    "# Page URL\n",
    "url=\"https://twitter.com/marswxreport?lang=en\"\n",
    "\n",
    "# Visit url\n",
    "browser.visit(url)"
   ]
  },
  {
   "cell_type": "code",
   "execution_count": 20,
   "metadata": {},
   "outputs": [
    {
     "name": "stdout",
     "output_type": "stream",
     "text": [
      "InSight sol 141 (2019-04-20) low -98.3ºC (-144.9ºF) high -19.7ºC (-3.5ºF)\n",
      "winds from the SW at 4.7 m/s (10.6 mph) gusting to 12.9 m/s (28.8 mph)\n",
      "pressure at 7.40 hPa\n"
     ]
    }
   ],
   "source": [
    "# Pull browser url\n",
    "html=browser.html\n",
    "# Parse with BS\n",
    "soup=bs(html,'html.parser')\n",
    "# Find first tweet\n",
    "tweet=soup.find('p',class_='TweetTextSize TweetTextSize--normal js-tweet-text tweet-text')\n",
    "\n",
    "# Weather\n",
    "mars_weather=tweet.text\n",
    "# Remove img url\n",
    "mars_weather=mars_weather.split('pic.twitter')[0]\n",
    "print(mars_weather)"
   ]
  },
  {
   "cell_type": "markdown",
   "metadata": {},
   "source": [
    "Scrape 4: Mars Facts"
   ]
  },
  {
   "cell_type": "code",
   "execution_count": 23,
   "metadata": {},
   "outputs": [],
   "source": [
    "# Page URL\n",
    "url=\"https://space-facts.com/mars/\"\n",
    "\n",
    "# Use pandas to pull in tables\n",
    "import pandas as pd\n",
    "mars_facts = pd.read_html(url)[0]"
   ]
  },
  {
   "cell_type": "code",
   "execution_count": 24,
   "metadata": {},
   "outputs": [],
   "source": [
    "# Convert table to HTML using pandas\n",
    "facts_html = mars_facts.to_html()\n",
    "# Strip our newlines\n",
    "facts_html=facts_html.replace('\\n', '')"
   ]
  },
  {
   "cell_type": "markdown",
   "metadata": {},
   "source": [
    "Scrape 5: Mars Hemispheres Images"
   ]
  },
  {
   "cell_type": "code",
   "execution_count": 26,
   "metadata": {},
   "outputs": [
    {
     "data": {
      "text/plain": [
       "[{'title': 'Valles Marineris Hemisphere',\n",
       "  'img_url': 'https://astrogeology.usgs.gov/cache/images/7cf2da4bf549ed01c17f206327be4db7_valles_marineris_enhanced.tif_full.jpg'},\n",
       " {'title': 'Cerberus Hemisphere',\n",
       "  'img_url': 'https://astrogeology.usgs.gov/cache/images/cfa62af2557222a02478f1fcd781d445_cerberus_enhanced.tif_full.jpg'},\n",
       " {'title': 'Schiaparelli Hemisphere',\n",
       "  'img_url': 'https://astrogeology.usgs.gov/cache/images/3cdd1cbf5e0813bba925c9030d13b62e_schiaparelli_enhanced.tif_full.jpg'},\n",
       " {'title': 'Syrtis Major Hemisphere',\n",
       "  'img_url': 'https://astrogeology.usgs.gov/cache/images/ae209b4e408bb6c3e67b6af38168cf28_syrtis_major_enhanced.tif_full.jpg'}]"
      ]
     },
     "execution_count": 26,
     "metadata": {},
     "output_type": "execute_result"
    }
   ],
   "source": [
    "# Page url\n",
    "url = \"https://astrogeology.usgs.gov/search/results?q=hemisphere+enhanced&k1=target&v1=Mars\"\n",
    "\n",
    "# List of hemisphere names\n",
    "hemispheres=[\"Valles Marineris Hemisphere\",\"Cerberus Hemisphere\",\"Schiaparelli Hemisphere\",\"Syrtis Major Hemisphere\"]\n",
    "\n",
    "# Initialize list of dictionaries\n",
    "hemisphere_image_urls=[]\n",
    "\n",
    "# Loop through web pages & pull attributes\n",
    "for hemi in hemispheres:\n",
    "    \n",
    "    # Visit page\n",
    "    browser.visit(url)\n",
    "    \n",
    "    # Click on hemisphere link\n",
    "    browser.click_link_by_partial_text(hemi)\n",
    "    \n",
    "    # Pull HTML\n",
    "    html=browser.html\n",
    "    # Parse HTML with BS4\n",
    "    soup=bs(html,'html.parser')\n",
    "    # Pull image element\n",
    "    img=soup.find('img',class_=\"wide-image\")\n",
    "    # Create image URL\n",
    "    img_url='https://astrogeology.usgs.gov'+img['src']\n",
    "    \n",
    "    # Create temprorary dictionary\n",
    "    my_dict={\"title\":hemi,\"img_url\":img_url}\n",
    "    \n",
    "    # Append dictionary to list\n",
    "    hemisphere_image_urls.append(my_dict)\n",
    "    \n",
    "# Check output\n",
    "hemisphere_image_urls"
   ]
  },
  {
   "cell_type": "code",
   "execution_count": 21,
   "metadata": {},
   "outputs": [],
   "source": [
    "news_result={\"headline\":headline,\"date\":date,\"paragraph\":paragraph}"
   ]
  },
  {
   "cell_type": "code",
   "execution_count": 30,
   "metadata": {},
   "outputs": [],
   "source": [
    "output={'headline':news_result['headline'],\n",
    "    'paragraph':news_result['paragraph'],\n",
    "    'featured_image':featured_url,\n",
    "    'weather':mars_weather,\n",
    "    'facts_html':facts_html,\n",
    "    \"Valles Marineris Hemisphere\":hemisphere_image_urls[0][\"img_url\"],\n",
    "    \"Cerberus Hemisphere\":hemisphere_image_urls[1][\"img_url\"],\n",
    "    \"Schiaparelli Hemisphere\":hemisphere_image_urls[2][\"img_url\"],\n",
    "    \"Syrtis Major Hemisphere\":hemisphere_image_urls[3][\"img_url\"]\n",
    "    }"
   ]
  },
  {
   "cell_type": "code",
   "execution_count": 31,
   "metadata": {},
   "outputs": [
    {
     "data": {
      "text/plain": [
       "{'headline': \"Things Are Stacking up for NASA's Mars 2020 Spacecraft\",\n",
       " 'paragraph': 'As the July 2020 launch date inches closer, the next spacecraft headed to the Red Planet is assembled for more testing.',\n",
       " 'featured_image': 'https://www.jpl.nasa.gov/spaceimages/images/largesize/PIA01322_hires.jpg',\n",
       " 'weather': 'InSight sol 141 (2019-04-20) low -98.3ºC (-144.9ºF) high -19.7ºC (-3.5ºF)\\nwinds from the SW at 4.7 m/s (10.6 mph) gusting to 12.9 m/s (28.8 mph)\\npressure at 7.40 hPa',\n",
       " 'facts_html': '<table border=\"1\" class=\"dataframe\">  <thead>    <tr style=\"text-align: right;\">      <th></th>      <th>0</th>      <th>1</th>    </tr>  </thead>  <tbody>    <tr>      <th>0</th>      <td>Equatorial Diameter:</td>      <td>6,792 km</td>    </tr>    <tr>      <th>1</th>      <td>Polar Diameter:</td>      <td>6,752 km</td>    </tr>    <tr>      <th>2</th>      <td>Mass:</td>      <td>6.42 x 10^23 kg (10.7% Earth)</td>    </tr>    <tr>      <th>3</th>      <td>Moons:</td>      <td>2 (Phobos &amp; Deimos)</td>    </tr>    <tr>      <th>4</th>      <td>Orbit Distance:</td>      <td>227,943,824 km (1.52 AU)</td>    </tr>    <tr>      <th>5</th>      <td>Orbit Period:</td>      <td>687 days (1.9 years)</td>    </tr>    <tr>      <th>6</th>      <td>Surface Temperature:</td>      <td>-153 to 20 °C</td>    </tr>    <tr>      <th>7</th>      <td>First Record:</td>      <td>2nd millennium BC</td>    </tr>    <tr>      <th>8</th>      <td>Recorded By:</td>      <td>Egyptian astronomers</td>    </tr>  </tbody></table>',\n",
       " 'Valles Marineris Hemisphere': 'https://astrogeology.usgs.gov/cache/images/7cf2da4bf549ed01c17f206327be4db7_valles_marineris_enhanced.tif_full.jpg',\n",
       " 'Cerberus Hemisphere': 'https://astrogeology.usgs.gov/cache/images/cfa62af2557222a02478f1fcd781d445_cerberus_enhanced.tif_full.jpg',\n",
       " 'Schiaparelli Hemisphere': 'https://astrogeology.usgs.gov/cache/images/3cdd1cbf5e0813bba925c9030d13b62e_schiaparelli_enhanced.tif_full.jpg',\n",
       " 'Syrtis Major Hemisphere': 'https://astrogeology.usgs.gov/cache/images/ae209b4e408bb6c3e67b6af38168cf28_syrtis_major_enhanced.tif_full.jpg'}"
      ]
     },
     "execution_count": 31,
     "metadata": {},
     "output_type": "execute_result"
    }
   ],
   "source": [
    "from flask_pymongo import PyMongo\n",
    "import scrape_mars\n",
    "\n",
    "app = Flask(__name__)\n",
    "\n",
    "# Use flask_pymongo to set up mongo connection\n",
    "app.config[\"MONGO_URI\"] = \"mongodb://localhost:27017/mars_app\"\n",
    "mongo = PyMongo(app)\n",
    "\n",
    "# Or set inline\n",
    "# mongo = PyMongo(app, uri=\"mongodb://localhost:27017/craigslist_app\")\n",
    "\n",
    "@app.route(\"/scrape\")\n",
    "def scraper():\n",
    "    mars = mongo.db.mars\n",
    "    mars_data = scrape_mars.scrape()\n",
    "    mars.update({}, mars_data, upsert=True)\n",
    "    return redirect(\"/\", code=302)\n",
    "\n",
    "@app.route(\"/\")\n",
    "def index():\n",
    "    mars_info = mongo.db.mars.find_one()\n",
    "    return render_template(\"index.html\", mars_info=mars_info)\n",
    "\n",
    "if __name__ == \"__main__\":\n",
    "    app.run(debug=True)\n"
   ]
  },
  {
   "cell_type": "code",
   "execution_count": null,
   "metadata": {},
   "outputs": [],
   "source": []
  }
 ],
 "metadata": {
  "kernelspec": {
   "display_name": "Python 3",
   "language": "python",
   "name": "python3"
  },
  "language_info": {
   "codemirror_mode": {
    "name": "ipython",
    "version": 3
   },
   "file_extension": ".py",
   "mimetype": "text/x-python",
   "name": "python",
   "nbconvert_exporter": "python",
   "pygments_lexer": "ipython3",
   "version": "3.7.2"
  }
 },
 "nbformat": 4,
 "nbformat_minor": 2
}
